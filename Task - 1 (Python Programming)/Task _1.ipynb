{
 "cells": [
  {
   "cell_type": "markdown",
   "metadata": {},
   "source": [
    "# Task 1 "
   ]
  },
  {
   "cell_type": "raw",
   "metadata": {},
   "source": [
    "1. Say \"Hello, World!\" With Python"
   ]
  },
  {
   "cell_type": "code",
   "execution_count": 1,
   "metadata": {},
   "outputs": [
    {
     "name": "stdout",
     "output_type": "stream",
     "text": [
      "Hello, World!\n"
     ]
    }
   ],
   "source": [
    "print(\"Hello, World!\")"
   ]
  },
  {
   "cell_type": "raw",
   "metadata": {},
   "source": [
    "2. Python If-Else\n",
    "\n",
    "    Given an integer, n, perform the following conditional actions:\n",
    "    If n is odd, print Weird\n",
    "    If n is even and in the inclusive range of 2 to 5, print Not Weird\n",
    "    If n is even and in the inclusive range of 6 to 20, print Weird\n",
    "    If n is even and greater than 20, print Not Weird"
   ]
  },
  {
   "cell_type": "code",
   "execution_count": 2,
   "metadata": {},
   "outputs": [
    {
     "name": "stdout",
     "output_type": "stream",
     "text": [
      "4\n",
      "Not Weird\n"
     ]
    }
   ],
   "source": [
    "import math\n",
    "import os\n",
    "import random\n",
    "import re\n",
    "import sys\n",
    "\n",
    "\n",
    "\n",
    "if __name__ == '__main__':\n",
    "    n = int(input().strip())\n",
    "if (n%2 != 0):\n",
    "    print(\"Weird\")\n",
    "else:\n",
    "    if (n >= 2 and n <= 5):\n",
    "        print(\"Not Weird\")\n",
    "    elif (n >=6 and n <= 20):\n",
    "        print(\"Weird\")\n",
    "    else:\n",
    "        print(\"Not Weird\")"
   ]
  },
  {
   "cell_type": "raw",
   "metadata": {},
   "source": [
    "3. Arithmetic Operators\n",
    "\n",
    "    The provided code stub reads two integers from STDIN, a and b. Add code to print three lines where:\n",
    "    The first line contains the sum of the two numbers.\n",
    "    The second line contains the difference of the two numbers (first - second).\n",
    "    The third line contains the product of the two numbers.\n",
    "    Example\n",
    "    a = 3\n",
    "    b = 5\n",
    "    Print the following:\n",
    "    8\n",
    "    -2\n",
    "    15\n"
   ]
  },
  {
   "cell_type": "code",
   "execution_count": 3,
   "metadata": {},
   "outputs": [
    {
     "name": "stdout",
     "output_type": "stream",
     "text": [
      "4\n",
      "5\n",
      "9\n",
      "-1\n",
      "20\n"
     ]
    }
   ],
   "source": [
    "if __name__ == '__main__':\n",
    "    a = int(input())\n",
    "    b = int(input())\n",
    "    print(a + b)\n",
    "    print(a - b)\n",
    "    print(a * b)"
   ]
  },
  {
   "cell_type": "raw",
   "metadata": {},
   "source": [
    "4. Python: Division\n",
    "\n",
    "    The provided code stub reads two integers, a and b, from STDIN.\n",
    "    Add logic to print two lines. The first line should contain the result of integer division, a//b. \n",
    "    The second line should contain the result of float division, a/b.\n",
    "\n",
    "    No rounding or formatting is necessary.\n",
    "    Example\n",
    "    a = 3\n",
    "    b = 5\n",
    "\n",
    "    The result of the integer division 3//5 = 0 .\n",
    "    The result of the float division is 3/5 = 0.6.\n",
    "    Print:\n",
    "\n",
    "    0\n",
    "    0.6"
   ]
  },
  {
   "cell_type": "code",
   "execution_count": 4,
   "metadata": {},
   "outputs": [
    {
     "name": "stdout",
     "output_type": "stream",
     "text": [
      "4\n",
      "5\n",
      "0\n",
      "0.8\n"
     ]
    }
   ],
   "source": [
    "if __name__ == '__main__':\n",
    "    a = int(input())\n",
    "    b = int(input())\n",
    "    print(a//b)\n",
    "    print(a/b)"
   ]
  },
  {
   "cell_type": "raw",
   "metadata": {},
   "source": [
    "5. Loops\n",
    "    \n",
    "    The provided code stub reads and integer, n, from STDIN. For all non-negative integers i < n, print i^2.\n",
    "    Example\n",
    "    n = 3\n",
    "    The list of non-negative integers that are less than n = 3 is 0,1,2. Print the square of each number on a separate line.\n",
    "    0\n",
    "    1\n",
    "    4"
   ]
  },
  {
   "cell_type": "code",
   "execution_count": 5,
   "metadata": {},
   "outputs": [
    {
     "name": "stdout",
     "output_type": "stream",
     "text": [
      "5\n",
      "0\n",
      "1\n",
      "4\n",
      "9\n",
      "16\n"
     ]
    }
   ],
   "source": [
    "if __name__ == '__main__':\n",
    "    n = int(input())\n",
    "    for i in range(n):\n",
    "        print(i * i)"
   ]
  },
  {
   "cell_type": "raw",
   "metadata": {},
   "source": [
    "6. Write a function\n",
    "\n",
    "    Given a year, determine whether it is a leap year. If it is a leap year, return the Boolean True, otherwise return False.\n",
    "    Note that the code stub provided reads from STDIN and passes arguments to the is_leap function. \n",
    "    It is only necessary to complete the is_leap function."
   ]
  },
  {
   "cell_type": "code",
   "execution_count": 6,
   "metadata": {},
   "outputs": [
    {
     "name": "stdout",
     "output_type": "stream",
     "text": [
      "1990\n",
      "False\n"
     ]
    }
   ],
   "source": [
    "def is_leap(year):\n",
    "    leap = False\n",
    "    if (((year % 4 == 0) and (year % 100 != 0)) or (year % 400 == 0)):\n",
    "        leap = True\n",
    "    return leap\n",
    "\n",
    "year = int(input())\n",
    "print(is_leap(year))"
   ]
  },
  {
   "cell_type": "raw",
   "metadata": {},
   "source": [
    "7. Print Function\n",
    "\n",
    "    The included code stub will read an integer, , from STDIN.\n",
    "    Without using any string methods, try to print the following:\n",
    "    123...\n",
    "    Note that \"...\" represents the consecutive values in between.\n",
    "\n",
    "    Example\n",
    "    n = 5\n",
    "    Print the string 12345."
   ]
  },
  {
   "cell_type": "code",
   "execution_count": 7,
   "metadata": {},
   "outputs": [
    {
     "name": "stdout",
     "output_type": "stream",
     "text": [
      "5\n",
      "12345"
     ]
    }
   ],
   "source": [
    "if __name__ == '__main__':\n",
    "    n = int(input())\n",
    "    for i in range(1,n+1):\n",
    "        print(i,end=\"\")"
   ]
  },
  {
   "cell_type": "code",
   "execution_count": null,
   "metadata": {},
   "outputs": [],
   "source": []
  }
 ],
 "metadata": {
  "kernelspec": {
   "display_name": "Python 3",
   "language": "python",
   "name": "python3"
  },
  "language_info": {
   "codemirror_mode": {
    "name": "ipython",
    "version": 3
   },
   "file_extension": ".py",
   "mimetype": "text/x-python",
   "name": "python",
   "nbconvert_exporter": "python",
   "pygments_lexer": "ipython3",
   "version": "3.8.3"
  }
 },
 "nbformat": 4,
 "nbformat_minor": 4
}
