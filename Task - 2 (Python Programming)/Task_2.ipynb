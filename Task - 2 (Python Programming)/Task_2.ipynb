{
 "cells": [
  {
   "cell_type": "markdown",
   "metadata": {},
   "source": [
    "# Task_2"
   ]
  },
  {
   "cell_type": "markdown",
   "metadata": {},
   "source": [
    "# 1- Nested List"
   ]
  },
  {
   "cell_type": "code",
   "execution_count": 31,
   "metadata": {},
   "outputs": [
    {
     "name": "stdout",
     "output_type": "stream",
     "text": [
      "5\n",
      "Harry\n",
      "37.21\n",
      "Berry\n",
      "37.21\n",
      "Tina\n",
      "37.2\n",
      "Akriti\n",
      "41\n",
      "Harsh\n",
      "39\n",
      "Berry\n",
      "Harry\n"
     ]
    }
   ],
   "source": [
    "slist = []\n",
    "\n",
    "if __name__ == '__main__':\n",
    "    for _ in range(int(input())):\n",
    "        name = input()\n",
    "        score = float(input())\n",
    "        slist.append([name, score])\n",
    "        \n",
    "    score_sort = sorted({x[1] for x in slist})\n",
    "    name_sort = sorted(x[0] for x in slist if x[1] == score_sort[1])\n",
    "    \n",
    "    print('\\n'.join(name_sort))"
   ]
  },
  {
   "cell_type": "markdown",
   "metadata": {},
   "source": [
    "# 2- List "
   ]
  },
  {
   "cell_type": "code",
   "execution_count": 2,
   "metadata": {},
   "outputs": [
    {
     "name": "stdout",
     "output_type": "stream",
     "text": [
      "3\n",
      "insert 0 5\n",
      "insert 0 10\n",
      "print\n",
      "[10, 5]\n"
     ]
    }
   ],
   "source": [
    "if __name__ == '__main__':\n",
    "    N = int(input())\n",
    "    \n",
    "    L=[]\n",
    "    \n",
    "\n",
    "\n",
    "\n",
    "    i=0\n",
    "    while i < N:\n",
    "        inp = input().split()\n",
    "        \n",
    "        if inp[0]==\"append\":\n",
    "            inp[1]=int(inp[1])\n",
    "            L.append(inp[1])\n",
    "        elif inp[0]==\"extend\":\n",
    "            inp[1]=int(inp[1])\n",
    "            L.extend(inp[1])\n",
    "        elif inp[0]==\"insert\":\n",
    "            inp[1]=int(inp[1])\n",
    "            inp[2]=int(inp[2])\n",
    "            L.insert(inp[1],inp[2])\n",
    "        elif inp[0]==\"remove\":\n",
    "            inp[1]=int(inp[1])\n",
    "            L.remove(inp[1])\n",
    "        elif inp[0]==\"pop\":\n",
    "            L.pop()\n",
    "        elif inp[0]==\"index\":\n",
    "            inp[1]=int(inp[1])\n",
    "            L.index(inp[1])\n",
    "        elif inp[0]==\"count\":\n",
    "            inp[1]=int(inp[1])\n",
    "            L.count(inp[1])\n",
    "        elif inp[0]==\"sort\":\n",
    "            L.sort()\n",
    "        elif inp[0]==\"reverse\":\n",
    "            L.reverse()\n",
    "        if inp[0]==\"print\":\n",
    "            print(L)\n",
    "        \n",
    "        i+=1"
   ]
  },
  {
   "cell_type": "markdown",
   "metadata": {},
   "source": [
    "# 3- List Comprehensions"
   ]
  },
  {
   "cell_type": "code",
   "execution_count": 5,
   "metadata": {},
   "outputs": [
    {
     "name": "stdout",
     "output_type": "stream",
     "text": [
      "2\n",
      "2\n",
      "2\n",
      "2\n",
      "[[0, 0, 0], [0, 0, 1], [0, 1, 0], [0, 1, 2], [0, 2, 1], [0, 2, 2], [1, 0, 0], [1, 0, 2], [1, 1, 1], [1, 1, 2], [1, 2, 0], [1, 2, 1], [1, 2, 2], [2, 0, 1], [2, 0, 2], [2, 1, 0], [2, 1, 1], [2, 1, 2], [2, 2, 0], [2, 2, 1], [2, 2, 2]]\n"
     ]
    }
   ],
   "source": [
    "if __name__ == '__main__':\n",
    "    x = int(input())\n",
    "    y = int(input())\n",
    "    z = int(input())\n",
    "    n = int(input())\n",
    "    print([[i, j, k] for i in range(x+1) for j in range(y+1) for k in range(z+1) if(i+j+k)!=n])"
   ]
  },
  {
   "cell_type": "markdown",
   "metadata": {},
   "source": [
    "# 4- Find the Runner-Up Score!"
   ]
  },
  {
   "cell_type": "code",
   "execution_count": 6,
   "metadata": {},
   "outputs": [
    {
     "name": "stdout",
     "output_type": "stream",
     "text": [
      "5\n",
      "2 3 1 4 1\n",
      "3\n"
     ]
    }
   ],
   "source": [
    "if __name__ == '__main__':\n",
    "    \n",
    "    n= int(input())\n",
    "    arr = map(int, input().split())\n",
    "    arr=list(arr)\n",
    "    x = max(arr)\n",
    "    y = -9999999\n",
    "    for i in range(0,n):\n",
    "        if arr[i]<x and arr[i] > y:\n",
    "            y = arr[i]\n",
    "    print(y)"
   ]
  },
  {
   "cell_type": "markdown",
   "metadata": {},
   "source": [
    "# 5- Finding the percentage"
   ]
  },
  {
   "cell_type": "code",
   "execution_count": 5,
   "metadata": {},
   "outputs": [
    {
     "name": "stdout",
     "output_type": "stream",
     "text": [
      "2\n",
      "ram 45 22 66\n",
      "ron 22 55 7\n",
      "ron\n",
      "28.00\n"
     ]
    }
   ],
   "source": [
    "if __name__ == '__main__':\n",
    "    n = int(input())\n",
    "    student_marks = {}\n",
    "    for _ in range(n):\n",
    "        name, *line = input().split()\n",
    "        scores = list(map(float, line))\n",
    "        student_marks[name] = scores\n",
    "    query_name = input() \n",
    "    query_scores = student_marks[query_name]\n",
    "    print(\"{0:.2f}\".format(sum(query_scores)/(len(query_scores))))"
   ]
  },
  {
   "cell_type": "markdown",
   "metadata": {},
   "source": [
    "# 6- Tuples"
   ]
  },
  {
   "cell_type": "code",
   "execution_count": 7,
   "metadata": {},
   "outputs": [
    {
     "name": "stdout",
     "output_type": "stream",
     "text": [
      "3\n",
      "2 5 1\n",
      "-6522015221243962609\n"
     ]
    }
   ],
   "source": [
    "if __name__ == '__main__':\n",
    "    n = int(input())\n",
    "    integer_list = map(int, input().split())\n",
    "    t = tuple(integer_list)\n",
    "    print(hash(t))"
   ]
  },
  {
   "cell_type": "markdown",
   "metadata": {},
   "source": [
    "# 7-Introduction to Sets"
   ]
  },
  {
   "cell_type": "code",
   "execution_count": 8,
   "metadata": {},
   "outputs": [
    {
     "name": "stdout",
     "output_type": "stream",
     "text": [
      "5\n",
      "2 3 1 2 2\n",
      "2.0\n"
     ]
    }
   ],
   "source": [
    "def average(array):\n",
    "    s = set()\n",
    "    sum = 0\n",
    "    c = 0\n",
    "    for i in range(len(array)):\n",
    "        if array[i] not in s:\n",
    "            s.add(array[i])\n",
    "            c = c+1\n",
    "    for i in s:\n",
    "        sum = sum + i\n",
    "        \n",
    "    return(sum/c)\n",
    "if __name__ == '__main__':\n",
    "    n = int(input())\n",
    "    arr = list(map(int, input().split()))\n",
    "    result = average(arr)\n",
    "    print(result)"
   ]
  },
  {
   "cell_type": "markdown",
   "metadata": {},
   "source": [
    "# 8-No Idea!"
   ]
  },
  {
   "cell_type": "code",
   "execution_count": 12,
   "metadata": {},
   "outputs": [
    {
     "name": "stdout",
     "output_type": "stream",
     "text": [
      "3 2\n",
      "1 5 3\n",
      "3 1\n",
      "5 7\n",
      "1\n"
     ]
    }
   ],
   "source": [
    "n, m = input().split()\n",
    "sc_ar = input().split()\n",
    "A = set(input().split())\n",
    "B = set(input().split())\n",
    "print(sum([(i in A) - (i in B) for i in sc_ar]))"
   ]
  },
  {
   "cell_type": "markdown",
   "metadata": {},
   "source": [
    "# 9-Symmetric Difference"
   ]
  },
  {
   "cell_type": "code",
   "execution_count": 13,
   "metadata": {},
   "outputs": [
    {
     "name": "stdout",
     "output_type": "stream",
     "text": [
      "2\n",
      "3 4\n",
      "3\n",
      "6 5 4\n",
      "3\n",
      "5\n",
      "6\n"
     ]
    }
   ],
   "source": [
    "M,m=input(),set(list(map(int,input().split())))\n",
    "N,n=input(),set(list(map(int,input().split())))\n",
    "s = sorted(list(m.difference(n))+list(n.difference(m)))\n",
    "for i in s:\n",
    "    print (i)"
   ]
  },
  {
   "cell_type": "markdown",
   "metadata": {},
   "source": [
    "# 10- Set .add()"
   ]
  },
  {
   "cell_type": "code",
   "execution_count": 14,
   "metadata": {},
   "outputs": [
    {
     "name": "stdout",
     "output_type": "stream",
     "text": [
      "4\n",
      "uk\n",
      "china\n",
      "india\n",
      "uk\n",
      "3\n"
     ]
    }
   ],
   "source": [
    "num = input()\n",
    "dist = set()\n",
    "for i in range(int(num)):\n",
    "    dist.add(input())\n",
    "print(len(dist))"
   ]
  },
  {
   "cell_type": "markdown",
   "metadata": {},
   "source": [
    "# 11- Set .discard(), .remove() & .pop()"
   ]
  },
  {
   "cell_type": "code",
   "execution_count": 19,
   "metadata": {},
   "outputs": [
    {
     "name": "stdout",
     "output_type": "stream",
     "text": [
      "5\n",
      "1 2 3 4 5\n",
      "3\n",
      "discard 2\n",
      "remove 5\n",
      "pop\n",
      "7\n"
     ]
    }
   ],
   "source": [
    "n=int(input())\n",
    "s = set(map(int,input().split()))\n",
    "N=int(input())\n",
    "for i in range(N):\n",
    "    choice=input(\n",
    "    ).split()\n",
    "    if choice[0]==\"pop\" :\n",
    "        s.pop()\n",
    "    elif choice[0]==\"remove\" :\n",
    "        s.remove(int(choice[1]))\n",
    "    elif choice[0]==\"discard\" :\n",
    "        s.discard(int(choice[1]))\n",
    "print(sum(s))"
   ]
  },
  {
   "cell_type": "markdown",
   "metadata": {},
   "source": [
    "# 12-Set .union() Operation"
   ]
  },
  {
   "cell_type": "code",
   "execution_count": 20,
   "metadata": {},
   "outputs": [
    {
     "name": "stdout",
     "output_type": "stream",
     "text": [
      "4\n",
      "2 3 5 7\n",
      "4\n",
      "3 5 4 1\n",
      "6\n"
     ]
    }
   ],
   "source": [
    "n = input()\n",
    "set_n = set(map(int, input().split()))\n",
    "b = input()\n",
    "set_b = set(map(int, input().split()))\n",
    "print(len(set_n.union(set_b)))"
   ]
  },
  {
   "cell_type": "markdown",
   "metadata": {},
   "source": [
    "# 13- Set .intersection() Operation"
   ]
  },
  {
   "cell_type": "code",
   "execution_count": 22,
   "metadata": {},
   "outputs": [
    {
     "name": "stdout",
     "output_type": "stream",
     "text": [
      "4\n",
      "2 3 5 7\n",
      "4\n",
      "3 5 4 1\n",
      "2\n"
     ]
    }
   ],
   "source": [
    "n = input()\n",
    "set_n = set(map(int, input().split()))\n",
    "b = input()\n",
    "set_b = set(map(int, input().split()))\n",
    "print(len(set_n.intersection(set_b)))"
   ]
  },
  {
   "cell_type": "markdown",
   "metadata": {},
   "source": [
    "# 14- Set .difference() Operation"
   ]
  },
  {
   "cell_type": "code",
   "execution_count": 24,
   "metadata": {},
   "outputs": [
    {
     "name": "stdout",
     "output_type": "stream",
     "text": [
      "4\n",
      "2 3 5 7\n",
      "4\n",
      "3 5 4 1\n",
      "2\n"
     ]
    }
   ],
   "source": [
    "n = input()\n",
    "set_n = set(map(int, input().split()))\n",
    "b = input()\n",
    "set_b = set(map(int, input().split()))\n",
    "print(len(set_n.difference(set_b)))"
   ]
  },
  {
   "cell_type": "markdown",
   "metadata": {},
   "source": [
    "# 15- Set .symmetric_difference() Operation"
   ]
  },
  {
   "cell_type": "code",
   "execution_count": 26,
   "metadata": {},
   "outputs": [
    {
     "name": "stdout",
     "output_type": "stream",
     "text": [
      "5\n",
      "4 5 8 3 5\n",
      "3\n",
      "4 8 2\n",
      "3\n"
     ]
    }
   ],
   "source": [
    "n = input()\n",
    "set_n = set(map(int, input().split()))\n",
    "b = input()\n",
    "set_b = set(map(int, input().split()))\n",
    "print(len(set_n.symmetric_difference(set_b)))"
   ]
  },
  {
   "cell_type": "markdown",
   "metadata": {},
   "source": [
    "# 16- Set Mutations"
   ]
  },
  {
   "cell_type": "code",
   "execution_count": 32,
   "metadata": {},
   "outputs": [
    {
     "name": "stdout",
     "output_type": "stream",
     "text": [
      "6\n",
      "2 3 7 8 3 2\n",
      "4\n",
      "intersection_update 3\n",
      "3 2 66\n",
      "update 2\n",
      "33 55\n",
      "difference_update 3\n",
      "4 2 84\n",
      "symmetric_difference_update 2\n",
      "1 4\n",
      "96\n"
     ]
    }
   ],
   "source": [
    "nA = int(input())\n",
    "A = set(map(int, input().split()))\n",
    "n = int(input())\n",
    "for i in range(n):\n",
    "    comm, ne = input().split()\n",
    "    B = set(map(int, input().split()))\n",
    "    if comm == 'intersection_update':\n",
    "        A.intersection_update(B)\n",
    "    elif comm == 'update':\n",
    "        A.update(B)\n",
    "    elif comm == 'difference_update':\n",
    "        A.difference_update(B)\n",
    "    elif comm == 'symmetric_difference_update':\n",
    "        A.symmetric_difference_update(B)\n",
    "print(sum(A))"
   ]
  },
  {
   "cell_type": "markdown",
   "metadata": {},
   "source": [
    "# 17- The Captain's Room"
   ]
  },
  {
   "cell_type": "code",
   "execution_count": 33,
   "metadata": {},
   "outputs": [
    {
     "name": "stdout",
     "output_type": "stream",
     "text": [
      "5\n",
      "1 2 3 6 5 4 4 2 5 3 6 1 6 5 3 2 4 1 2 5 1 4 3 6 8 4 3 1 5 6 2\n",
      "8\n"
     ]
    }
   ],
   "source": [
    "k = int(input())\n",
    "arr = list(map(int, input().split()))\n",
    "myset = set(arr)\n",
    "print(((sum(myset)*k)-(sum(arr)))//(k-1))"
   ]
  },
  {
   "cell_type": "markdown",
   "metadata": {},
   "source": [
    "# 18- Check Subset\n"
   ]
  },
  {
   "cell_type": "code",
   "execution_count": 34,
   "metadata": {},
   "outputs": [
    {
     "name": "stdout",
     "output_type": "stream",
     "text": [
      "3\n",
      "5\n",
      "2 4 5 7 5\n",
      "7\n",
      "1 2 4 6 8 3 7\n",
      "False\n",
      "4\n",
      "1 2 3 4\n",
      "7\n",
      "6 3 2 1 4 5 7\n",
      "True\n",
      "4\n",
      "7 8 9 0\n",
      "2 \n",
      "3 4\n",
      "False\n"
     ]
    }
   ],
   "source": [
    "n = int(input())\n",
    "for i in range(n):\n",
    "    a = int(input())\n",
    "    set_a = set(input().split())\n",
    "    b = int(input())\n",
    "    set_b = set(input().split())\n",
    "    out_set = set_a.difference(set_b)\n",
    "    if len(out_set) == 0:\n",
    "        print(True)\n",
    "    else:\n",
    "        print(False)"
   ]
  },
  {
   "cell_type": "markdown",
   "metadata": {},
   "source": [
    "# 19- Check Strict Superset"
   ]
  },
  {
   "cell_type": "code",
   "execution_count": 37,
   "metadata": {},
   "outputs": [
    {
     "name": "stdout",
     "output_type": "stream",
     "text": [
      "1 2 3 4 5 6 7 8 9\n",
      "2\n",
      "1 2 3 4 5\n",
      "2 55 63 \n",
      "False\n"
     ]
    }
   ],
   "source": [
    "a = set(input().split())\n",
    "counter , n = 0, int(input())\n",
    "for i in range (n):\n",
    "        b = set(input().split())\n",
    "        if a.issuperset(b) :\n",
    "                counter += 1\n",
    "print(counter == n)"
   ]
  },
  {
   "cell_type": "code",
   "execution_count": null,
   "metadata": {},
   "outputs": [],
   "source": []
  }
 ],
 "metadata": {
  "kernelspec": {
   "display_name": "Python 3",
   "language": "python",
   "name": "python3"
  },
  "language_info": {
   "codemirror_mode": {
    "name": "ipython",
    "version": 3
   },
   "file_extension": ".py",
   "mimetype": "text/x-python",
   "name": "python",
   "nbconvert_exporter": "python",
   "pygments_lexer": "ipython3",
   "version": "3.8.3"
  }
 },
 "nbformat": 4,
 "nbformat_minor": 4
}
